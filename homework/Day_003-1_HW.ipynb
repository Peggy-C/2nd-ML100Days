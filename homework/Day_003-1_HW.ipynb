{
 "cells": [
  {
   "cell_type": "markdown",
   "metadata": {},
   "source": [
    "## 練習時間\n",
    "在小量的資料上，我們用眼睛就可以看得出來程式碼是否有跑出我們理想中的結果\n",
    "\n",
    "請嘗試想像一個你需要的資料結構 (裡面的值可以是隨機的)，然後用上述的方法把它變成 pandas DataFrame\n",
    "\n",
    "#### Ex: 想像一個 dataframe 有兩個欄位，一個是國家，一個是人口，求人口數最多的國家\n",
    "\n",
    "### Hints: [隨機產生數值](https://blog.csdn.net/christianashannon/article/details/78867204)"
   ]
  },
  {
   "cell_type": "code",
   "execution_count": 1,
   "metadata": {},
   "outputs": [],
   "source": [
    "import pandas as pd\n",
    "import numpy as np"
   ]
  },
  {
   "cell_type": "code",
   "execution_count": 2,
   "metadata": {},
   "outputs": [
    {
     "name": "stdout",
     "output_type": "stream",
     "text": [
      "[370 253 288 352 497 131 314 108 362  17]\n"
     ]
    }
   ],
   "source": [
    "arry = np.random.randint(500,size=10)\n",
    "print (arry)"
   ]
  },
  {
   "cell_type": "code",
   "execution_count": 3,
   "metadata": {},
   "outputs": [
    {
     "name": "stdout",
     "output_type": "stream",
     "text": [
      "   國家   人口\n",
      "0  UA  370\n",
      "1  TW  253\n",
      "2  UK  288\n",
      "3  CA  352\n",
      "4  BN  497\n",
      "5  CL  131\n",
      "6  GU  314\n",
      "7  FR  108\n",
      "8  ES  362\n",
      "9  DK   17\n"
     ]
    }
   ],
   "source": [
    "\n",
    "data = {'國家':['UA','TW','UK','CA','BN','CL','GU','FR','ES','DK'] ,\n",
    "        '人口':arry }\n",
    "data = pd.DataFrame(data)\n",
    "print (data)"
   ]
  },
  {
   "cell_type": "code",
   "execution_count": 4,
   "metadata": {},
   "outputs": [
    {
     "name": "stdout",
     "output_type": "stream",
     "text": [
      "人口數最多的國 :\n",
      "國家     BN\n",
      "人口    497\n",
      "Name: 4, dtype: object\n"
     ]
    }
   ],
   "source": [
    "index = data['人口'].idxmax()\n",
    "country  = data.loc[index]\n",
    "print ('人口數最多的國 :')\n",
    "print (country )"
   ]
  }
 ],
 "metadata": {
  "kernelspec": {
   "display_name": "Python 3",
   "language": "python",
   "name": "python3"
  },
  "language_info": {
   "codemirror_mode": {
    "name": "ipython",
    "version": 3
   },
   "file_extension": ".py",
   "mimetype": "text/x-python",
   "name": "python",
   "nbconvert_exporter": "python",
   "pygments_lexer": "ipython3",
   "version": "3.7.3"
  }
 },
 "nbformat": 4,
 "nbformat_minor": 2
}
